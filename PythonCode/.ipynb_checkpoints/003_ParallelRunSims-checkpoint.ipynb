{
 "cells": [
  {
   "cell_type": "markdown",
   "metadata": {},
   "source": [
    "## Callin Switzer\n",
    "10 Dec 2018\n",
    "### Modified TLD script for running simulation"
   ]
  },
  {
   "cell_type": "raw",
   "metadata": {},
   "source": [
    "#  Jorge BugBuster\n",
    "###  This is a quick look at Jorge's ODE system for the abdo-flex model.  WHOA... be sure to use cgs (centimeter, gram, seconds) system!\n",
    "###  TLD -- based on Code from Jorge Bustamante 2018\n",
    "###    Python modification of Matlab code.  \n",
    "###    updated: 29 Nov. 2018\n",
    "### Updated 1 April 2019"
   ]
  },
  {
   "cell_type": "code",
   "execution_count": 1,
   "metadata": {},
   "outputs": [
    {
     "name": "stdout",
     "output_type": "stream",
     "text": [
      "3.6.7 (default, Feb 28 2019, 07:28:18) [MSC v.1900 64 bit (AMD64)]\n"
     ]
    }
   ],
   "source": [
    "import matplotlib.pyplot as plt\n",
    "%matplotlib inline\n",
    "import numpy as np\n",
    "import os\n",
    "import pandas as pd\n",
    "import seaborn as sns\n",
    "from scipy.integrate import odeint\n",
    "import random\n",
    "import time\n",
    "from datetime import datetime\n",
    "import sys\n",
    "from multiprocessing import Pool, cpu_count\n",
    "import multiProcTraj # note that this is a custom-written file \n",
    "\n",
    "print(sys.version)"
   ]
  },
  {
   "cell_type": "code",
   "execution_count": 2,
   "metadata": {},
   "outputs": [
    {
     "name": "stdout",
     "output_type": "stream",
     "text": [
      "last run on 2019-04-10 08:20:54.052795\n"
     ]
    }
   ],
   "source": [
    "now = datetime.now()\n",
    "print(\"last run on \" + str(now))\n",
    "\n",
    "# define directories\n",
    "baseDir = os.getcwd()\n",
    "dataDir = r'D:\\MothSimulations\\11c-AggressiveManeuver\\Qstore\\hws_am_con'\n",
    "figDir = r'D:\\Dropbox\\AcademiaDropbox\\mothMachineLearning_dataAndFigs\\Figs'\n",
    "dataOutput = r'D:\\Dropbox\\AcademiaDropbox\\mothMachineLearning_dataAndFigs\\DataOutput'\n",
    "savedModels = r'D:\\Dropbox\\AcademiaDropbox\\mothMachineLearning_dataAndFigs\\savedModels'\n",
    "pythonMadeData = r\"D:/Dropbox/AcademiaDropbox/mothMachineLearning_dataAndFigs/PythonGeneratedData/TestData\"\n",
    "\n",
    "if not os.path.exists(dataOutput):\n",
    "    os.mkdir(dataOutput)\n",
    "    \n",
    "if not os.path.exists(savedModels):\n",
    "    os.mkdir(savedModels)"
   ]
  },
  {
   "cell_type": "code",
   "execution_count": 4,
   "metadata": {},
   "outputs": [
    {
     "name": "stdout",
     "output_type": "stream",
     "text": [
      "12.027846574783325\n",
      "12.397213220596313\n"
     ]
    }
   ],
   "source": [
    "import importlib\n",
    "importlib.reload(multiProcTraj)\n",
    "# parallel run of simulations -- this generates approximately 1 million simulations per hour\n",
    "p = Pool(cpu_count()-1)\n",
    "stt = time.time()   \n",
    "# bb = p.map(multiProcTraj.flyBug_firstLast, range(100000) ) \n",
    "bb = p.map(multiProcTraj.flyBug_firstLast, range(100000) ) \n",
    "print(time.time() -stt)\n",
    "\n",
    "p.close()\n",
    "p.join()\n",
    "print(time.time() -stt)"
   ]
  },
  {
   "cell_type": "code",
   "execution_count": 29,
   "metadata": {},
   "outputs": [
    {
     "data": {
      "text/plain": [
       "10"
      ]
     },
     "execution_count": 29,
     "metadata": {},
     "output_type": "execute_result"
    }
   ],
   "source": [
    "len(bb)"
   ]
  },
  {
   "cell_type": "code",
   "execution_count": 30,
   "metadata": {},
   "outputs": [
    {
     "data": {
      "text/html": [
       "<div>\n",
       "<style scoped>\n",
       "    .dataframe tbody tr th:only-of-type {\n",
       "        vertical-align: middle;\n",
       "    }\n",
       "\n",
       "    .dataframe tbody tr th {\n",
       "        vertical-align: top;\n",
       "    }\n",
       "\n",
       "    .dataframe thead th {\n",
       "        text-align: right;\n",
       "    }\n",
       "</style>\n",
       "<table border=\"1\" class=\"dataframe\">\n",
       "  <thead>\n",
       "    <tr style=\"text-align: right;\">\n",
       "      <th></th>\n",
       "      <th>x0</th>\n",
       "      <th>xf</th>\n",
       "      <th>xd0</th>\n",
       "      <th>xdf</th>\n",
       "      <th>y0</th>\n",
       "      <th>yf</th>\n",
       "      <th>yd0</th>\n",
       "      <th>ydf</th>\n",
       "      <th>theta0</th>\n",
       "      <th>thetaf</th>\n",
       "      <th>thetad0</th>\n",
       "      <th>thetadf</th>\n",
       "      <th>phi0</th>\n",
       "      <th>phif</th>\n",
       "      <th>phid0</th>\n",
       "      <th>phidf</th>\n",
       "      <th>F</th>\n",
       "      <th>alpha</th>\n",
       "      <th>tau0</th>\n",
       "    </tr>\n",
       "  </thead>\n",
       "  <tbody>\n",
       "    <tr>\n",
       "      <th>0</th>\n",
       "      <td>0.0</td>\n",
       "      <td>-26.214772</td>\n",
       "      <td>-1148.043630</td>\n",
       "      <td>-1419.707131</td>\n",
       "      <td>0.0</td>\n",
       "      <td>25.859595</td>\n",
       "      <td>1181.614511</td>\n",
       "      <td>1476.053057</td>\n",
       "      <td>3.266603</td>\n",
       "      <td>2.032924</td>\n",
       "      <td>-19.052674</td>\n",
       "      <td>-101.695317</td>\n",
       "      <td>1.067667</td>\n",
       "      <td>-0.155254</td>\n",
       "      <td>-20.335904</td>\n",
       "      <td>-101.229190</td>\n",
       "      <td>22751.570580</td>\n",
       "      <td>5.638181</td>\n",
       "      <td>-10295.434734</td>\n",
       "    </tr>\n",
       "    <tr>\n",
       "      <th>1</th>\n",
       "      <td>0.0</td>\n",
       "      <td>15.707581</td>\n",
       "      <td>730.968996</td>\n",
       "      <td>858.258784</td>\n",
       "      <td>0.0</td>\n",
       "      <td>-28.415527</td>\n",
       "      <td>-1241.808448</td>\n",
       "      <td>-1587.653184</td>\n",
       "      <td>1.468308</td>\n",
       "      <td>1.746117</td>\n",
       "      <td>-19.716470</td>\n",
       "      <td>49.912076</td>\n",
       "      <td>5.788661</td>\n",
       "      <td>6.127598</td>\n",
       "      <td>-18.890306</td>\n",
       "      <td>52.943454</td>\n",
       "      <td>18572.589827</td>\n",
       "      <td>3.456828</td>\n",
       "      <td>-42085.172420</td>\n",
       "    </tr>\n",
       "    <tr>\n",
       "      <th>2</th>\n",
       "      <td>0.0</td>\n",
       "      <td>-22.811686</td>\n",
       "      <td>-960.211703</td>\n",
       "      <td>-1283.526289</td>\n",
       "      <td>0.0</td>\n",
       "      <td>1.497567</td>\n",
       "      <td>101.834147</td>\n",
       "      <td>108.536478</td>\n",
       "      <td>6.171228</td>\n",
       "      <td>5.326039</td>\n",
       "      <td>-19.776017</td>\n",
       "      <td>-90.411806</td>\n",
       "      <td>1.576586</td>\n",
       "      <td>0.677480</td>\n",
       "      <td>19.734695</td>\n",
       "      <td>-93.053568</td>\n",
       "      <td>21134.229096</td>\n",
       "      <td>3.554321</td>\n",
       "      <td>37111.911362</td>\n",
       "    </tr>\n",
       "    <tr>\n",
       "      <th>3</th>\n",
       "      <td>0.0</td>\n",
       "      <td>-4.080390</td>\n",
       "      <td>-472.796993</td>\n",
       "      <td>62.848756</td>\n",
       "      <td>0.0</td>\n",
       "      <td>3.364933</td>\n",
       "      <td>251.728335</td>\n",
       "      <td>110.955109</td>\n",
       "      <td>2.562396</td>\n",
       "      <td>2.973682</td>\n",
       "      <td>-14.954275</td>\n",
       "      <td>41.405328</td>\n",
       "      <td>6.168149</td>\n",
       "      <td>6.588972</td>\n",
       "      <td>12.342479</td>\n",
       "      <td>41.867312</td>\n",
       "      <td>30160.711775</td>\n",
       "      <td>3.288691</td>\n",
       "      <td>-5945.997671</td>\n",
       "    </tr>\n",
       "    <tr>\n",
       "      <th>4</th>\n",
       "      <td>0.0</td>\n",
       "      <td>-23.672347</td>\n",
       "      <td>-1163.284560</td>\n",
       "      <td>-1196.131899</td>\n",
       "      <td>0.0</td>\n",
       "      <td>19.230730</td>\n",
       "      <td>967.711767</td>\n",
       "      <td>947.333120</td>\n",
       "      <td>3.909046</td>\n",
       "      <td>4.032460</td>\n",
       "      <td>-6.824605</td>\n",
       "      <td>3.952908</td>\n",
       "      <td>3.786584</td>\n",
       "      <td>3.916562</td>\n",
       "      <td>16.947087</td>\n",
       "      <td>4.259987</td>\n",
       "      <td>1871.103996</td>\n",
       "      <td>5.468067</td>\n",
       "      <td>-4014.039595</td>\n",
       "    </tr>\n",
       "  </tbody>\n",
       "</table>\n",
       "</div>"
      ],
      "text/plain": [
       "    x0         xf          xd0          xdf   y0         yf          yd0  \\\n",
       "0  0.0 -26.214772 -1148.043630 -1419.707131  0.0  25.859595  1181.614511   \n",
       "1  0.0  15.707581   730.968996   858.258784  0.0 -28.415527 -1241.808448   \n",
       "2  0.0 -22.811686  -960.211703 -1283.526289  0.0   1.497567   101.834147   \n",
       "3  0.0  -4.080390  -472.796993    62.848756  0.0   3.364933   251.728335   \n",
       "4  0.0 -23.672347 -1163.284560 -1196.131899  0.0  19.230730   967.711767   \n",
       "\n",
       "           ydf    theta0    thetaf    thetad0     thetadf      phi0      phif  \\\n",
       "0  1476.053057  3.266603  2.032924 -19.052674 -101.695317  1.067667 -0.155254   \n",
       "1 -1587.653184  1.468308  1.746117 -19.716470   49.912076  5.788661  6.127598   \n",
       "2   108.536478  6.171228  5.326039 -19.776017  -90.411806  1.576586  0.677480   \n",
       "3   110.955109  2.562396  2.973682 -14.954275   41.405328  6.168149  6.588972   \n",
       "4   947.333120  3.909046  4.032460  -6.824605    3.952908  3.786584  3.916562   \n",
       "\n",
       "       phid0       phidf             F     alpha          tau0  \n",
       "0 -20.335904 -101.229190  22751.570580  5.638181 -10295.434734  \n",
       "1 -18.890306   52.943454  18572.589827  3.456828 -42085.172420  \n",
       "2  19.734695  -93.053568  21134.229096  3.554321  37111.911362  \n",
       "3  12.342479   41.867312  30160.711775  3.288691  -5945.997671  \n",
       "4  16.947087    4.259987   1871.103996  5.468067  -4014.039595  "
      ]
     },
     "execution_count": 30,
     "metadata": {},
     "output_type": "execute_result"
    }
   ],
   "source": [
    "# save data to csv\n",
    "newDF = pd.DataFrame(bb, columns= [\"x0\", \"xf\", \"xd0\", \"xdf\", \"y0\", \"yf\", \"yd0\", \"ydf\", \"theta0\", \\\n",
    "\"thetaf\", \"thetad0\", \"thetadf\", \"phi0\", \"phif\", \"phid0\", \"phidf\", \"F\", \"alpha\", \"tau0\"])\n",
    "\n",
    "\n",
    "newDF.head()"
   ]
  },
  {
   "cell_type": "code",
   "execution_count": 7,
   "metadata": {},
   "outputs": [
    {
     "name": "stdout",
     "output_type": "stream",
     "text": [
      "2019_04_03__10_00_31\n"
     ]
    }
   ],
   "source": [
    "tstamp = datetime.now().strftime(\"%Y_%m_%d__%H_%M_%S\")\n",
    "print(tstamp)"
   ]
  },
  {
   "cell_type": "code",
   "execution_count": 8,
   "metadata": {},
   "outputs": [
    {
     "data": {
      "text/plain": [
       "'D:/Dropbox/AcademiaDropbox/mothMachineLearning_dataAndFigs/PythonGeneratedData/TestData'"
      ]
     },
     "execution_count": 8,
     "metadata": {},
     "output_type": "execute_result"
    }
   ],
   "source": [
    "pythonMadeData"
   ]
  },
  {
   "cell_type": "code",
   "execution_count": 9,
   "metadata": {},
   "outputs": [],
   "source": [
    "newDF.to_csv(os.path.join(pythonMadeData, \n",
    "                          \"RandomInitCond_\" + tstamp + \".csv\"),\n",
    "             index = False)"
   ]
  },
  {
   "cell_type": "code",
   "execution_count": 18,
   "metadata": {},
   "outputs": [
    {
     "name": "stdout",
     "output_type": "stream",
     "text": [
      "12.170493364334106\n",
      "12.538028240203857\n",
      "2019_04_03__10_12_58\n",
      "12.431798934936523\n",
      "12.785820722579956\n",
      "2019_04_03__10_13_13\n",
      "12.602301359176636\n",
      "12.951338768005371\n",
      "2019_04_03__10_13_28\n",
      "12.12761116027832\n",
      "12.53690242767334\n",
      "2019_04_03__10_13_43\n",
      "12.473654508590698\n",
      "12.855144739151001\n",
      "2019_04_03__10_13_58\n",
      "12.161490678787231\n",
      "12.53443956375122\n",
      "2019_04_03__10_14_13\n",
      "12.238284587860107\n",
      "12.629096984863281\n",
      "2019_04_03__10_14_28\n",
      "12.2592294216156\n",
      "12.65784215927124\n",
      "2019_04_03__10_14_43\n"
     ]
    }
   ],
   "source": [
    "# for loop to run parallel processes a few times\n",
    "\n",
    "for ii in range(8):\n",
    "    # parallel run of simulations -- this generates approximately 1 million simulations per hour\n",
    "    # this cell takes about an hour to run\n",
    "    p = Pool(cpu_count()-2)\n",
    "    stt = time.time()   \n",
    "    bb = p.map(multiProcTraj.flyBug_firstLast, range(100000) ) \n",
    "    print(time.time() -stt)\n",
    "\n",
    "    p.close()\n",
    "    p.join()\n",
    "    print(time.time() -stt)\n",
    "    newDF = pd.DataFrame(bb, columns= [\"x0\", \"xf\", \"xd0\", \"xdf\", \"y0\", \"yf\", \"yd0\", \"ydf\", \"theta0\", \\\n",
    "            \"thetaf\", \"thetad0\", \"thetadf\", \"phi0\", \"phif\", \"phid0\", \"phidf\", \"F\", \"alpha\", \"tau0\"])\n",
    "    \n",
    "    tstamp = datetime.now().strftime(\"%Y_%m_%d__%H_%M_%S\")\n",
    "    print(tstamp)\n",
    "    \n",
    "    newDF.to_csv(os.path.join(pythonMadeData, \n",
    "                          \"RandomInitCond_\" + tstamp + \".csv\"),\n",
    "             index = False)"
   ]
  },
  {
   "cell_type": "code",
   "execution_count": 19,
   "metadata": {},
   "outputs": [],
   "source": [
    "# refref: one million simulations per 96 seconds?"
   ]
  },
  {
   "cell_type": "code",
   "execution_count": null,
   "metadata": {},
   "outputs": [],
   "source": []
  },
  {
   "cell_type": "code",
   "execution_count": 20,
   "metadata": {},
   "outputs": [
    {
     "name": "stdout",
     "output_type": "stream",
     "text": [
      "12.143568515777588\n",
      "12.482109308242798\n",
      "2019_04_03__10_14_58\n",
      "12.04582667350769\n",
      "12.371912240982056\n",
      "2019_04_03__10_15_13\n",
      "12.307137966156006\n",
      "12.702399730682373\n",
      "2019_04_03__10_15_28\n",
      "12.314082384109497\n",
      "12.674564123153687\n",
      "2019_04_03__10_15_43\n",
      "12.46969723701477\n",
      "12.779642105102539\n",
      "2019_04_03__10_15_58\n",
      "11.989979028701782\n",
      "12.280172109603882\n",
      "2019_04_03__10_16_13\n",
      "12.210386037826538\n",
      "12.581607818603516\n",
      "2019_04_03__10_16_28\n",
      "12.374919414520264\n",
      "12.690775394439697\n",
      "2019_04_03__10_16_43\n"
     ]
    }
   ],
   "source": [
    "# for loop to run parallel processes a few times\n",
    "for ii in range(8):\n",
    "    # parallel run of simulations -- this generates approximately 1 million simulations per hour\n",
    "    p = Pool(cpu_count()-4)\n",
    "    stt = time.time()   \n",
    "    bb = p.map(multiProcTraj.flyBug_firstLast, range(100000) ) \n",
    "    print(time.time() -stt)\n",
    "\n",
    "    p.close()\n",
    "    p.join()\n",
    "    print(time.time() -stt)\n",
    "    newDF = pd.DataFrame(bb, columns= [\"x0\", \"xf\", \"xd0\", \"xdf\", \"y0\", \"yf\", \"yd0\", \"ydf\", \"theta0\", \\\n",
    "            \"thetaf\", \"thetad0\", \"thetadf\", \"phi0\", \"phif\", \"phid0\", \"phidf\", \"F\", \"alpha\", \"tau0\"])\n",
    "    \n",
    "    tstamp = datetime.now().strftime(\"%Y_%m_%d__%H_%M_%S\")\n",
    "    print(tstamp)\n",
    "    \n",
    "    newDF.to_csv(os.path.join(pythonMadeData, \n",
    "                          \"RandomInitCond_\" + tstamp + \".csv\"),\n",
    "             index = False)"
   ]
  },
  {
   "cell_type": "code",
   "execution_count": 21,
   "metadata": {},
   "outputs": [
    {
     "name": "stdout",
     "output_type": "stream",
     "text": [
      "12.2233247756958\n",
      "12.632879257202148\n",
      "2019_04_03__10_16_58\n",
      "12.080736875534058\n",
      "12.434906721115112\n",
      "2019_04_03__10_17_13\n",
      "12.11264681816101\n",
      "12.543555736541748\n",
      "2019_04_03__10_17_28\n",
      "12.087686777114868\n",
      "12.438823461532593\n",
      "2019_04_03__10_17_43\n",
      "12.020864963531494\n",
      "12.432202100753784\n",
      "2019_04_03__10_17_58\n",
      "12.255271196365356\n",
      "12.646639585494995\n",
      "2019_04_03__10_18_13\n",
      "12.120599031448364\n",
      "12.56366491317749\n",
      "2019_04_03__10_18_28\n",
      "12.12561321258545\n",
      "12.544893503189087\n",
      "2019_04_03__10_18_43\n"
     ]
    }
   ],
   "source": [
    "# for loop to run parallel processes a few times\n",
    "\n",
    "for ii in range(8):\n",
    "    # parallel run of simulations -- this generates approximately 1 million simulations per hour\n",
    "    # this cell takes about an hour to run\n",
    "    p = Pool(cpu_count()-2)\n",
    "    stt = time.time()   \n",
    "    bb = p.map(multiProcTraj.flyBug_firstLast, range(100000) ) \n",
    "    print(time.time() -stt)\n",
    "\n",
    "    p.close()\n",
    "    p.join()\n",
    "    print(time.time() -stt)\n",
    "    newDF = pd.DataFrame(bb, columns= [\"x0\", \"xf\", \"xd0\", \"xdf\", \"y0\", \"yf\", \"yd0\", \"ydf\", \"theta0\", \\\n",
    "            \"thetaf\", \"thetad0\", \"thetadf\", \"phi0\", \"phif\", \"phid0\", \"phidf\", \"F\", \"alpha\", \"tau0\"])\n",
    "    \n",
    "    tstamp = datetime.now().strftime(\"%Y_%m_%d__%H_%M_%S\")\n",
    "    print(tstamp)\n",
    "    \n",
    "    newDF.to_csv(os.path.join(pythonMadeData, \n",
    "                          \"RandomInitCond_\" + tstamp + \".csv\"),\n",
    "             index = False)"
   ]
  },
  {
   "cell_type": "code",
   "execution_count": null,
   "metadata": {},
   "outputs": [],
   "source": []
  }
 ],
 "metadata": {
  "celltoolbar": "Raw Cell Format",
  "kernelspec": {
   "display_name": "numSolve_parallel",
   "language": "python",
   "name": "numsolve_parallel"
  },
  "language_info": {
   "codemirror_mode": {
    "name": "ipython",
    "version": 3
   },
   "file_extension": ".py",
   "mimetype": "text/x-python",
   "name": "python",
   "nbconvert_exporter": "python",
   "pygments_lexer": "ipython3",
   "version": "3.6.7"
  }
 },
 "nbformat": 4,
 "nbformat_minor": 2
}

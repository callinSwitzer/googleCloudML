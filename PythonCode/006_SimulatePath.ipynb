{
 "cells": [
  {
   "cell_type": "markdown",
   "metadata": {},
   "source": [
    "## Callin Switzer\n",
    "## Run simulations  for path"
   ]
  },
  {
   "cell_type": "code",
   "execution_count": 15,
   "metadata": {},
   "outputs": [
    {
     "name": "stdout",
     "output_type": "stream",
     "text": [
      "3.6.6 | packaged by conda-forge | (default, Jul 26 2018, 11:48:23) [MSC v.1900 64 bit (AMD64)]\n",
      "last run on 2019-01-02 14:14:37.445268\n"
     ]
    }
   ],
   "source": [
    "import matplotlib.pyplot as plt\n",
    "%matplotlib inline\n",
    "import numpy as np\n",
    "import os\n",
    "import seaborn as sns\n",
    "from scipy.integrate import odeint\n",
    "import random\n",
    "import time\n",
    "from datetime import datetime\n",
    "import sys\n",
    "import pandas as pd\n",
    "import multiProcTraj # note that this is a custom-written file \n",
    "\n",
    "pd.set_option('display.max_columns', 500)\n",
    "\n",
    "# define directories\n",
    "baseDir = os.getcwd()\n",
    "dataDir = r'D:\\MothSimulations\\11c-AggressiveManeuver\\Qstore\\hws_am_con'\n",
    "figDir = r'D:\\Dropbox\\AcademiaDropbox\\mothMachineLearning_dataAndFigs\\Figs'\n",
    "dataOutput = r'D:\\Dropbox\\AcademiaDropbox\\mothMachineLearning_dataAndFigs\\DataOutput'\n",
    "savedModels = r'D:\\Dropbox\\AcademiaDropbox\\mothMachineLearning_dataAndFigs\\savedModels'\n",
    "randomRawData = r'D:/Dropbox/AcademiaDropbox/mothMachineLearning_dataAndFigs/PythonGeneratedData'\n",
    "\n",
    "if not os.path.exists(dataOutput):\n",
    "    os.mkdir(dataOutput)\n",
    "if not os.path.exists(savedModels):\n",
    "    os.mkdir(savedModels)\n",
    "\n",
    "print(sys.version)\n",
    "now = datetime.now()\n",
    "print(\"last run on \" + str(now))"
   ]
  },
  {
   "cell_type": "code",
   "execution_count": 16,
   "metadata": {},
   "outputs": [
    {
     "data": {
      "text/plain": [
       "(200, 23)"
      ]
     },
     "execution_count": 16,
     "metadata": {},
     "output_type": "execute_result"
    }
   ],
   "source": [
    "# Load data\n",
    "pathDF = pd.read_csv(os.path.join(dataOutput, \"PredictedTraj2_feed.csv\"))\n",
    "pathDF.shape"
   ]
  },
  {
   "cell_type": "code",
   "execution_count": 17,
   "metadata": {},
   "outputs": [
    {
     "data": {
      "text/html": [
       "<div>\n",
       "<style scoped>\n",
       "    .dataframe tbody tr th:only-of-type {\n",
       "        vertical-align: middle;\n",
       "    }\n",
       "\n",
       "    .dataframe tbody tr th {\n",
       "        vertical-align: top;\n",
       "    }\n",
       "\n",
       "    .dataframe thead th {\n",
       "        text-align: right;\n",
       "    }\n",
       "</style>\n",
       "<table border=\"1\" class=\"dataframe\">\n",
       "  <thead>\n",
       "    <tr style=\"text-align: right;\">\n",
       "      <th></th>\n",
       "      <th>x_0</th>\n",
       "      <th>y_0</th>\n",
       "      <th>phi_0</th>\n",
       "      <th>theta_0</th>\n",
       "      <th>x_dot_0</th>\n",
       "      <th>y_dot_0</th>\n",
       "      <th>phi_dot_0</th>\n",
       "      <th>theta_dot_0</th>\n",
       "      <th>F_pred</th>\n",
       "      <th>alpha_pred</th>\n",
       "      <th>tau_pred</th>\n",
       "      <th>x_99</th>\n",
       "      <th>y_99</th>\n",
       "      <th>phi_99</th>\n",
       "      <th>theta_99</th>\n",
       "      <th>x_dot_99_pred</th>\n",
       "      <th>y_dot_99_pred</th>\n",
       "      <th>phi_dot_99_pred</th>\n",
       "      <th>theta_dot_99_pred</th>\n",
       "      <th>Fx_pred</th>\n",
       "      <th>Fy_pred</th>\n",
       "      <th>quadrant</th>\n",
       "      <th>tsteps</th>\n",
       "    </tr>\n",
       "  </thead>\n",
       "  <tbody>\n",
       "    <tr>\n",
       "      <th>195</th>\n",
       "      <td>0.0</td>\n",
       "      <td>0.0</td>\n",
       "      <td>3.926991</td>\n",
       "      <td>0.785398</td>\n",
       "      <td>0.000001</td>\n",
       "      <td>38.832221</td>\n",
       "      <td>0</td>\n",
       "      <td>0</td>\n",
       "      <td>2928.986445</td>\n",
       "      <td>0.989029</td>\n",
       "      <td>-391.046722</td>\n",
       "      <td>0</td>\n",
       "      <td>1.067286</td>\n",
       "      <td>3.926991</td>\n",
       "      <td>0.785398</td>\n",
       "      <td>-22.500629</td>\n",
       "      <td>112.718925</td>\n",
       "      <td>-0.156983</td>\n",
       "      <td>-0.264036</td>\n",
       "      <td>1609.481934</td>\n",
       "      <td>2447.147217</td>\n",
       "      <td>1</td>\n",
       "      <td>3.90</td>\n",
       "    </tr>\n",
       "    <tr>\n",
       "      <th>196</th>\n",
       "      <td>0.0</td>\n",
       "      <td>0.0</td>\n",
       "      <td>3.926991</td>\n",
       "      <td>0.785398</td>\n",
       "      <td>0.000001</td>\n",
       "      <td>67.333981</td>\n",
       "      <td>0</td>\n",
       "      <td>0</td>\n",
       "      <td>2759.188085</td>\n",
       "      <td>0.995642</td>\n",
       "      <td>-350.035431</td>\n",
       "      <td>0</td>\n",
       "      <td>1.597808</td>\n",
       "      <td>3.926991</td>\n",
       "      <td>0.785398</td>\n",
       "      <td>-22.332081</td>\n",
       "      <td>139.266647</td>\n",
       "      <td>-0.165872</td>\n",
       "      <td>-0.268434</td>\n",
       "      <td>1500.899780</td>\n",
       "      <td>2315.257812</td>\n",
       "      <td>1</td>\n",
       "      <td>3.92</td>\n",
       "    </tr>\n",
       "    <tr>\n",
       "      <th>197</th>\n",
       "      <td>0.0</td>\n",
       "      <td>0.0</td>\n",
       "      <td>3.926991</td>\n",
       "      <td>0.785398</td>\n",
       "      <td>0.000001</td>\n",
       "      <td>91.604899</td>\n",
       "      <td>0</td>\n",
       "      <td>0</td>\n",
       "      <td>2505.744202</td>\n",
       "      <td>1.008256</td>\n",
       "      <td>-321.274933</td>\n",
       "      <td>0</td>\n",
       "      <td>2.027934</td>\n",
       "      <td>3.926991</td>\n",
       "      <td>0.785398</td>\n",
       "      <td>-22.207941</td>\n",
       "      <td>159.611984</td>\n",
       "      <td>-0.174110</td>\n",
       "      <td>-0.271921</td>\n",
       "      <td>1336.405273</td>\n",
       "      <td>2119.616699</td>\n",
       "      <td>1</td>\n",
       "      <td>3.94</td>\n",
       "    </tr>\n",
       "    <tr>\n",
       "      <th>198</th>\n",
       "      <td>0.0</td>\n",
       "      <td>0.0</td>\n",
       "      <td>3.926991</td>\n",
       "      <td>0.785398</td>\n",
       "      <td>0.000001</td>\n",
       "      <td>110.119945</td>\n",
       "      <td>0</td>\n",
       "      <td>0</td>\n",
       "      <td>2185.274540</td>\n",
       "      <td>1.029322</td>\n",
       "      <td>-306.486115</td>\n",
       "      <td>0</td>\n",
       "      <td>2.330638</td>\n",
       "      <td>3.926991</td>\n",
       "      <td>0.785398</td>\n",
       "      <td>-22.133829</td>\n",
       "      <td>172.478394</td>\n",
       "      <td>-0.181177</td>\n",
       "      <td>-0.274251</td>\n",
       "      <td>1126.290527</td>\n",
       "      <td>1872.670410</td>\n",
       "      <td>1</td>\n",
       "      <td>3.96</td>\n",
       "    </tr>\n",
       "    <tr>\n",
       "      <th>199</th>\n",
       "      <td>0.0</td>\n",
       "      <td>0.0</td>\n",
       "      <td>3.926991</td>\n",
       "      <td>0.785398</td>\n",
       "      <td>0.000001</td>\n",
       "      <td>121.715750</td>\n",
       "      <td>0</td>\n",
       "      <td>0</td>\n",
       "      <td>1819.191532</td>\n",
       "      <td>1.063479</td>\n",
       "      <td>-306.682068</td>\n",
       "      <td>0</td>\n",
       "      <td>2.486899</td>\n",
       "      <td>3.926991</td>\n",
       "      <td>0.785398</td>\n",
       "      <td>-22.110157</td>\n",
       "      <td>177.063324</td>\n",
       "      <td>-0.186556</td>\n",
       "      <td>-0.275331</td>\n",
       "      <td>883.826111</td>\n",
       "      <td>1590.065796</td>\n",
       "      <td>1</td>\n",
       "      <td>3.98</td>\n",
       "    </tr>\n",
       "  </tbody>\n",
       "</table>\n",
       "</div>"
      ],
      "text/plain": [
       "     x_0  y_0     phi_0   theta_0   x_dot_0     y_dot_0  phi_dot_0  \\\n",
       "195  0.0  0.0  3.926991  0.785398  0.000001   38.832221          0   \n",
       "196  0.0  0.0  3.926991  0.785398  0.000001   67.333981          0   \n",
       "197  0.0  0.0  3.926991  0.785398  0.000001   91.604899          0   \n",
       "198  0.0  0.0  3.926991  0.785398  0.000001  110.119945          0   \n",
       "199  0.0  0.0  3.926991  0.785398  0.000001  121.715750          0   \n",
       "\n",
       "     theta_dot_0       F_pred  alpha_pred    tau_pred  x_99      y_99  \\\n",
       "195            0  2928.986445    0.989029 -391.046722     0  1.067286   \n",
       "196            0  2759.188085    0.995642 -350.035431     0  1.597808   \n",
       "197            0  2505.744202    1.008256 -321.274933     0  2.027934   \n",
       "198            0  2185.274540    1.029322 -306.486115     0  2.330638   \n",
       "199            0  1819.191532    1.063479 -306.682068     0  2.486899   \n",
       "\n",
       "       phi_99  theta_99  x_dot_99_pred  y_dot_99_pred  phi_dot_99_pred  \\\n",
       "195  3.926991  0.785398     -22.500629     112.718925        -0.156983   \n",
       "196  3.926991  0.785398     -22.332081     139.266647        -0.165872   \n",
       "197  3.926991  0.785398     -22.207941     159.611984        -0.174110   \n",
       "198  3.926991  0.785398     -22.133829     172.478394        -0.181177   \n",
       "199  3.926991  0.785398     -22.110157     177.063324        -0.186556   \n",
       "\n",
       "     theta_dot_99_pred      Fx_pred      Fy_pred  quadrant  tsteps  \n",
       "195          -0.264036  1609.481934  2447.147217         1    3.90  \n",
       "196          -0.268434  1500.899780  2315.257812         1    3.92  \n",
       "197          -0.271921  1336.405273  2119.616699         1    3.94  \n",
       "198          -0.274251  1126.290527  1872.670410         1    3.96  \n",
       "199          -0.275331   883.826111  1590.065796         1    3.98  "
      ]
     },
     "execution_count": 17,
     "metadata": {},
     "output_type": "execute_result"
    }
   ],
   "source": [
    "\n",
    "\n",
    "pathDF.tail()\n"
   ]
  },
  {
   "cell_type": "markdown",
   "metadata": {},
   "source": [
    "___"
   ]
  },
  {
   "cell_type": "markdown",
   "metadata": {},
   "source": [
    "# Loop Version "
   ]
  },
  {
   "cell_type": "code",
   "execution_count": 18,
   "metadata": {},
   "outputs": [
    {
     "name": "stdout",
     "output_type": "stream",
     "text": [
      "0\n",
      "elapsed time =  0.01994633674621582\n",
      "elapsed time =  3.486380100250244\n"
     ]
    }
   ],
   "source": [
    "# put data into correct order\n",
    "# x,xd,y,yd,\n",
    "# theta,thetad,phi,phid, \n",
    "# F, alpha, tau0\n",
    "\n",
    "\n",
    "tic = time.time()\n",
    "t = np.linspace(0, 0.02, num = 100, endpoint = False) # time cut into 100 timesteps\n",
    "nrun = pathDF.shape[0]  #number of trajectories.\n",
    "\n",
    "# pre-allocate arrays to fill\n",
    "nstep = 100\n",
    "zeroMatrix = np.zeros([nrun, nstep])\n",
    "x,      xd,    y,   yd, \\\n",
    "theta, thetad, phi, phid = [zeroMatrix.copy() for ii in \n",
    "                                range(len([ \"x\",     \"xd\",     \"y\", \"yd\", \n",
    "                                            \"theta\", \"thetad\", \"phi\", \"phid\"]))]\n",
    "\n",
    "# generate  initial conditions for state 0\n",
    "state01 = np.array(pathDF[[\"x_0\", \"x_dot_0\", \"y_0\", \"y_dot_0\", \n",
    "           \"theta_0\", \"theta_dot_0\", \"phi_0\", \"phi_dot_0\", \n",
    "           \"F_pred\", \"alpha_pred\", \"tau_pred\"]])\n",
    "\n",
    "# loop through all the runs\n",
    "for i in range(0,nrun):\n",
    "    # run ODE\n",
    "    state = odeint(multiProcTraj.FlyTheBug, state01[i, :], t)\n",
    "    x[i,:], xd[i,:] = state[:,0], state[:,1]\n",
    "    y[i,:], yd[i, :] = state[:,2], state[:,3]\n",
    "    theta[i,:], thetad[i, :] = state[:,4],state[:,5]\n",
    "    phi[i,:], phid[i, :] = state[:, 6], state[:,7]\n",
    "    \n",
    "    if(np.mod(i, 1000) == 0):\n",
    "        print(i)\n",
    "        print('elapsed time = ',time.time()-tic)\n",
    "print('elapsed time = ',time.time()-tic)"
   ]
  },
  {
   "cell_type": "code",
   "execution_count": 19,
   "metadata": {},
   "outputs": [
    {
     "data": {
      "text/plain": [
       "(200, 100)"
      ]
     },
     "execution_count": 19,
     "metadata": {},
     "output_type": "execute_result"
    }
   ],
   "source": [
    "x.shape"
   ]
  },
  {
   "cell_type": "code",
   "execution_count": 20,
   "metadata": {},
   "outputs": [
    {
     "data": {
      "text/plain": [
       "(200, 11)"
      ]
     },
     "execution_count": 20,
     "metadata": {},
     "output_type": "execute_result"
    }
   ],
   "source": [
    "state01.shape"
   ]
  },
  {
   "cell_type": "code",
   "execution_count": 21,
   "metadata": {},
   "outputs": [
    {
     "data": {
      "image/png": "[encoded data removed]",
      "text/plain": [
       "<matplotlib.figure.Figure at 0x199e9dd78d0>"
      ]
     },
     "metadata": {},
     "output_type": "display_data"
    }
   ],
   "source": [
    "plt.figure()\n",
    "for i in range(0,nrun):\n",
    "    plt.plot(x[i, :],y[i, :], label = 'trajectory x vs y')"
   ]
  },
  {
   "cell_type": "code",
   "execution_count": 22,
   "metadata": {},
   "outputs": [],
   "source": [
    "# get errors and correct with nnet"
   ]
  },
  {
   "cell_type": "code",
   "execution_count": 23,
   "metadata": {},
   "outputs": [],
   "source": [
    "# get final states\n",
    "x_f_sim = x[:, -1]\n",
    "xd_f_sim = xd[:, -1]\n",
    "\n",
    "y_f_sim = y[:, -1]\n",
    "yd_f_sim = yd[:, -1]\n",
    "\n",
    "theta_f_sim = theta[:, -1]\n",
    "thetad_f_sim = thetad[:, -1]\n",
    "\n",
    "phi_f_sim = phi[:, -1]\n",
    "phid_f_sim = phid[:, -1]"
   ]
  },
  {
   "cell_type": "code",
   "execution_count": 24,
   "metadata": {},
   "outputs": [
    {
     "data": {
      "text/html": [
       "<div>\n",
       "<style scoped>\n",
       "    .dataframe tbody tr th:only-of-type {\n",
       "        vertical-align: middle;\n",
       "    }\n",
       "\n",
       "    .dataframe tbody tr th {\n",
       "        vertical-align: top;\n",
       "    }\n",
       "\n",
       "    .dataframe thead th {\n",
       "        text-align: right;\n",
       "    }\n",
       "</style>\n",
       "<table border=\"1\" class=\"dataframe\">\n",
       "  <thead>\n",
       "    <tr style=\"text-align: right;\">\n",
       "      <th></th>\n",
       "      <th>x_0</th>\n",
       "      <th>y_0</th>\n",
       "      <th>phi_0</th>\n",
       "      <th>theta_0</th>\n",
       "      <th>x_dot_0</th>\n",
       "      <th>y_dot_0</th>\n",
       "      <th>phi_dot_0</th>\n",
       "      <th>theta_dot_0</th>\n",
       "      <th>F_pred</th>\n",
       "      <th>alpha_pred</th>\n",
       "      <th>tau_pred</th>\n",
       "      <th>x_99</th>\n",
       "      <th>y_99</th>\n",
       "      <th>phi_99</th>\n",
       "      <th>theta_99</th>\n",
       "      <th>x_dot_99_pred</th>\n",
       "      <th>y_dot_99_pred</th>\n",
       "      <th>phi_dot_99_pred</th>\n",
       "      <th>theta_dot_99_pred</th>\n",
       "      <th>Fx_pred</th>\n",
       "      <th>Fy_pred</th>\n",
       "      <th>quadrant</th>\n",
       "      <th>tsteps</th>\n",
       "      <th>x_99_actual</th>\n",
       "      <th>xd_99_actual</th>\n",
       "      <th>y_99_actual</th>\n",
       "      <th>yd_99_actual</th>\n",
       "      <th>theta_99_actual</th>\n",
       "      <th>thetad_99_actual</th>\n",
       "      <th>phi_99_actual</th>\n",
       "      <th>phid_99_actual</th>\n",
       "    </tr>\n",
       "  </thead>\n",
       "  <tbody>\n",
       "    <tr>\n",
       "      <th>0</th>\n",
       "      <td>0.0</td>\n",
       "      <td>0.0</td>\n",
       "      <td>3.926991</td>\n",
       "      <td>0.785398</td>\n",
       "      <td>0.000001</td>\n",
       "      <td>125.663706</td>\n",
       "      <td>0</td>\n",
       "      <td>0</td>\n",
       "      <td>1432.744547</td>\n",
       "      <td>1.119976</td>\n",
       "      <td>-321.818451</td>\n",
       "      <td>0</td>\n",
       "      <td>2.486899</td>\n",
       "      <td>3.926991</td>\n",
       "      <td>0.785398</td>\n",
       "      <td>-22.135920</td>\n",
       "      <td>173.082687</td>\n",
       "      <td>-0.189894</td>\n",
       "      <td>-0.275100</td>\n",
       "      <td>624.252136</td>\n",
       "      <td>1289.599243</td>\n",
       "      <td>1</td>\n",
       "      <td>0.00</td>\n",
       "      <td>-0.087800</td>\n",
       "      <td>-8.993559</td>\n",
       "      <td>2.544456</td>\n",
       "      <td>131.379402</td>\n",
       "      <td>0.789095</td>\n",
       "      <td>0.398616</td>\n",
       "      <td>3.931326</td>\n",
       "      <td>0.431273</td>\n",
       "    </tr>\n",
       "    <tr>\n",
       "      <th>1</th>\n",
       "      <td>0.0</td>\n",
       "      <td>0.0</td>\n",
       "      <td>3.926991</td>\n",
       "      <td>0.785398</td>\n",
       "      <td>0.000001</td>\n",
       "      <td>121.715750</td>\n",
       "      <td>0</td>\n",
       "      <td>0</td>\n",
       "      <td>1054.857548</td>\n",
       "      <td>1.218496</td>\n",
       "      <td>-350.956696</td>\n",
       "      <td>0</td>\n",
       "      <td>2.330638</td>\n",
       "      <td>3.926991</td>\n",
       "      <td>0.785398</td>\n",
       "      <td>-22.208017</td>\n",
       "      <td>160.787750</td>\n",
       "      <td>-0.190977</td>\n",
       "      <td>-0.273578</td>\n",
       "      <td>363.986359</td>\n",
       "      <td>990.069885</td>\n",
       "      <td>1</td>\n",
       "      <td>0.02</td>\n",
       "      <td>-0.082601</td>\n",
       "      <td>-8.437637</td>\n",
       "      <td>2.393166</td>\n",
       "      <td>120.024120</td>\n",
       "      <td>0.788153</td>\n",
       "      <td>0.302559</td>\n",
       "      <td>3.930382</td>\n",
       "      <td>0.335130</td>\n",
       "    </tr>\n",
       "    <tr>\n",
       "      <th>2</th>\n",
       "      <td>0.0</td>\n",
       "      <td>0.0</td>\n",
       "      <td>3.926991</td>\n",
       "      <td>0.785398</td>\n",
       "      <td>0.000001</td>\n",
       "      <td>110.119945</td>\n",
       "      <td>0</td>\n",
       "      <td>0</td>\n",
       "      <td>720.155435</td>\n",
       "      <td>1.404157</td>\n",
       "      <td>-392.329529</td>\n",
       "      <td>0</td>\n",
       "      <td>2.027934</td>\n",
       "      <td>3.926991</td>\n",
       "      <td>0.785398</td>\n",
       "      <td>-22.322237</td>\n",
       "      <td>140.949417</td>\n",
       "      <td>-0.189717</td>\n",
       "      <td>-0.270872</td>\n",
       "      <td>119.451866</td>\n",
       "      <td>710.179626</td>\n",
       "      <td>1</td>\n",
       "      <td>0.04</td>\n",
       "      <td>-0.077934</td>\n",
       "      <td>-7.937957</td>\n",
       "      <td>2.095135</td>\n",
       "      <td>101.492596</td>\n",
       "      <td>0.787241</td>\n",
       "      <td>0.210368</td>\n",
       "      <td>3.929489</td>\n",
       "      <td>0.243891</td>\n",
       "    </tr>\n",
       "    <tr>\n",
       "      <th>3</th>\n",
       "      <td>0.0</td>\n",
       "      <td>0.0</td>\n",
       "      <td>3.926991</td>\n",
       "      <td>0.785398</td>\n",
       "      <td>0.000001</td>\n",
       "      <td>91.604899</td>\n",
       "      <td>0</td>\n",
       "      <td>0</td>\n",
       "      <td>476.758957</td>\n",
       "      <td>1.769239</td>\n",
       "      <td>-443.292358</td>\n",
       "      <td>0</td>\n",
       "      <td>1.597808</td>\n",
       "      <td>3.926991</td>\n",
       "      <td>0.785398</td>\n",
       "      <td>-22.474615</td>\n",
       "      <td>114.808495</td>\n",
       "      <td>-0.186243</td>\n",
       "      <td>-0.267093</td>\n",
       "      <td>-93.989716</td>\n",
       "      <td>467.402435</td>\n",
       "      <td>2</td>\n",
       "      <td>0.06</td>\n",
       "      <td>-0.074020</td>\n",
       "      <td>-7.515376</td>\n",
       "      <td>1.669001</td>\n",
       "      <td>76.937882</td>\n",
       "      <td>0.786420</td>\n",
       "      <td>0.128126</td>\n",
       "      <td>3.928706</td>\n",
       "      <td>0.163564</td>\n",
       "    </tr>\n",
       "    <tr>\n",
       "      <th>4</th>\n",
       "      <td>0.0</td>\n",
       "      <td>0.0</td>\n",
       "      <td>3.926991</td>\n",
       "      <td>0.785398</td>\n",
       "      <td>0.000001</td>\n",
       "      <td>67.333981</td>\n",
       "      <td>0</td>\n",
       "      <td>0</td>\n",
       "      <td>381.768676</td>\n",
       "      <td>2.330324</td>\n",
       "      <td>-500.684509</td>\n",
       "      <td>0</td>\n",
       "      <td>1.067286</td>\n",
       "      <td>3.926991</td>\n",
       "      <td>0.785398</td>\n",
       "      <td>-22.657322</td>\n",
       "      <td>84.003555</td>\n",
       "      <td>-0.180822</td>\n",
       "      <td>-0.262525</td>\n",
       "      <td>-262.877808</td>\n",
       "      <td>276.843964</td>\n",
       "      <td>2</td>\n",
       "      <td>0.08</td>\n",
       "      <td>-0.070948</td>\n",
       "      <td>-7.173721</td>\n",
       "      <td>1.141480</td>\n",
       "      <td>47.896552</td>\n",
       "      <td>0.785745</td>\n",
       "      <td>0.061338</td>\n",
       "      <td>3.928086</td>\n",
       "      <td>0.099517</td>\n",
       "    </tr>\n",
       "  </tbody>\n",
       "</table>\n",
       "</div>"
      ],
      "text/plain": [
       "   x_0  y_0     phi_0   theta_0   x_dot_0     y_dot_0  phi_dot_0  theta_dot_0  \\\n",
       "0  0.0  0.0  3.926991  0.785398  0.000001  125.663706          0            0   \n",
       "1  0.0  0.0  3.926991  0.785398  0.000001  121.715750          0            0   \n",
       "2  0.0  0.0  3.926991  0.785398  0.000001  110.119945          0            0   \n",
       "3  0.0  0.0  3.926991  0.785398  0.000001   91.604899          0            0   \n",
       "4  0.0  0.0  3.926991  0.785398  0.000001   67.333981          0            0   \n",
       "\n",
       "        F_pred  alpha_pred    tau_pred  x_99      y_99    phi_99  theta_99  \\\n",
       "0  1432.744547    1.119976 -321.818451     0  2.486899  3.926991  0.785398   \n",
       "1  1054.857548    1.218496 -350.956696     0  2.330638  3.926991  0.785398   \n",
       "2   720.155435    1.404157 -392.329529     0  2.027934  3.926991  0.785398   \n",
       "3   476.758957    1.769239 -443.292358     0  1.597808  3.926991  0.785398   \n",
       "4   381.768676    2.330324 -500.684509     0  1.067286  3.926991  0.785398   \n",
       "\n",
       "   x_dot_99_pred  y_dot_99_pred  phi_dot_99_pred  theta_dot_99_pred  \\\n",
       "0     -22.135920     173.082687        -0.189894          -0.275100   \n",
       "1     -22.208017     160.787750        -0.190977          -0.273578   \n",
       "2     -22.322237     140.949417        -0.189717          -0.270872   \n",
       "3     -22.474615     114.808495        -0.186243          -0.267093   \n",
       "4     -22.657322      84.003555        -0.180822          -0.262525   \n",
       "\n",
       "      Fx_pred      Fy_pred  quadrant  tsteps  x_99_actual  xd_99_actual  \\\n",
       "0  624.252136  1289.599243         1    0.00    -0.087800     -8.993559   \n",
       "1  363.986359   990.069885         1    0.02    -0.082601     -8.437637   \n",
       "2  119.451866   710.179626         1    0.04    -0.077934     -7.937957   \n",
       "3  -93.989716   467.402435         2    0.06    -0.074020     -7.515376   \n",
       "4 -262.877808   276.843964         2    0.08    -0.070948     -7.173721   \n",
       "\n",
       "   y_99_actual  yd_99_actual  theta_99_actual  thetad_99_actual  \\\n",
       "0     2.544456    131.379402         0.789095          0.398616   \n",
       "1     2.393166    120.024120         0.788153          0.302559   \n",
       "2     2.095135    101.492596         0.787241          0.210368   \n",
       "3     1.669001     76.937882         0.786420          0.128126   \n",
       "4     1.141480     47.896552         0.785745          0.061338   \n",
       "\n",
       "   phi_99_actual  phid_99_actual  \n",
       "0       3.931326        0.431273  \n",
       "1       3.930382        0.335130  \n",
       "2       3.929489        0.243891  \n",
       "3       3.928706        0.163564  \n",
       "4       3.928086        0.099517  "
      ]
     },
     "execution_count": 24,
     "metadata": {},
     "output_type": "execute_result"
    }
   ],
   "source": [
    "pathDF[\"x_99_actual\"] = x_f_sim\n",
    "pathDF[\"xd_99_actual\"] = xd_f_sim\n",
    "pathDF[\"y_99_actual\"] = y_f_sim\n",
    "pathDF[\"yd_99_actual\"] = yd_f_sim\n",
    "pathDF[\"theta_99_actual\"] = theta_f_sim\n",
    "pathDF[\"thetad_99_actual\"] = thetad_f_sim\n",
    "pathDF[\"phi_99_actual\"] = phi_f_sim\n",
    "pathDF[\"phid_99_actual\"] = phid_f_sim\n",
    "\n",
    "\n",
    "\n",
    "pathDF.head()"
   ]
  },
  {
   "cell_type": "code",
   "execution_count": 25,
   "metadata": {},
   "outputs": [
    {
     "data": {
      "text/plain": [
       "<matplotlib.legend.Legend at 0x199ea092358>"
      ]
     },
     "execution_count": 25,
     "metadata": {},
     "output_type": "execute_result"
    },
    {
     "data": {
      "image/png": "[encoded data removed]",
      "text/plain": [
       "<matplotlib.figure.Figure at 0x199ea06a860>"
      ]
     },
     "metadata": {},
     "output_type": "display_data"
    }
   ],
   "source": [
    "plt.plot(pathDF.tsteps, y_f_sim, label = \"simulation (actual)\")\n",
    "plt.plot(pathDF.tsteps,pathDF.y_99, label = \"prediction\")\n",
    "plt.ylim(-10, 10)\n",
    "plt.legend()"
   ]
  },
  {
   "cell_type": "code",
   "execution_count": 26,
   "metadata": {},
   "outputs": [
    {
     "data": {
      "text/plain": [
       "<matplotlib.legend.Legend at 0x199ea103a58>"
      ]
     },
     "execution_count": 26,
     "metadata": {},
     "output_type": "execute_result"
    },
    {
     "data": {
      "image/png": "[encoded data removed]",
      "text/plain": [
       "<matplotlib.figure.Figure at 0x199e9d3b5c0>"
      ]
     },
     "metadata": {},
     "output_type": "display_data"
    }
   ],
   "source": [
    "plt.plot(pathDF.tsteps, np.cumsum(y_f_sim), label = \"simulation (actual)\")\n",
    "plt.plot(pathDF.tsteps,np.cumsum(pathDF.y_99), label = \"Nnet prediction\")\n",
    "plt.ylim(-10, 80)\n",
    "plt.legend()"
   ]
  },
  {
   "cell_type": "code",
   "execution_count": 27,
   "metadata": {},
   "outputs": [
    {
     "data": {
      "image/png": "[encoded data removed]",
      "text/plain": [
       "<matplotlib.figure.Figure at 0x199ea0de400>"
      ]
     },
     "metadata": {},
     "output_type": "display_data"
    }
   ],
   "source": [
    "# plot residuals\n",
    "plt.plot(pathDF.y_99, pathDF.y_99_actual, label = 'pred vs. actual')\n",
    "plt.plot(pathDF.y_99_actual, pathDF.y_99_actual, label = \"1:1 line\")\n",
    "plt.xlim(-10, 10)\n",
    "plt.legend()\n",
    "plt.show()"
   ]
  },
  {
   "cell_type": "code",
   "execution_count": 28,
   "metadata": {},
   "outputs": [],
   "source": [
    "pathDF.to_csv(os.path.join(dataOutput, \"PathGraphic_feed.csv\"), index = False)"
   ]
  },
  {
   "cell_type": "code",
   "execution_count": null,
   "metadata": {},
   "outputs": [],
   "source": []
  },
  {
   "cell_type": "code",
   "execution_count": null,
   "metadata": {},
   "outputs": [],
   "source": []
  },
  {
   "cell_type": "code",
   "execution_count": null,
   "metadata": {},
   "outputs": [],
   "source": []
  },
  {
   "cell_type": "code",
   "execution_count": null,
   "metadata": {},
   "outputs": [],
   "source": []
  },
  {
   "cell_type": "code",
   "execution_count": null,
   "metadata": {},
   "outputs": [],
   "source": []
  },
  {
   "cell_type": "code",
   "execution_count": null,
   "metadata": {},
   "outputs": [],
   "source": [
    "combDF = testDF.head(100000).copy()"
   ]
  },
  {
   "cell_type": "code",
   "execution_count": null,
   "metadata": {},
   "outputs": [],
   "source": [
    "combDF = combDF.assign(x_99_sim = x_f_sim, \n",
    "                      y_99_sim = y_f_sim, \n",
    "                      theta_99_sim = theta_f_sim, \n",
    "                      phi_99_sim = phi_f_sim, \n",
    "                      xd_99_sim = xd_f_sim, \n",
    "                      yd_99_sim = yd_f_sim, \n",
    "                      thetad_99_sim = thetad_f_sim, \n",
    "                      phid_99_sim = phid_f_sim) "
   ]
  },
  {
   "cell_type": "code",
   "execution_count": null,
   "metadata": {},
   "outputs": [],
   "source": [
    "combDF.head()"
   ]
  },
  {
   "cell_type": "code",
   "execution_count": null,
   "metadata": {},
   "outputs": [],
   "source": [
    "combDF.to_csv(os.path.join(dataOutput, \"SimVsNNet_Locations_100K.csv\"), index = False)"
   ]
  },
  {
   "cell_type": "markdown",
   "metadata": {},
   "source": [
    "___"
   ]
  },
  {
   "cell_type": "markdown",
   "metadata": {},
   "source": [
    "# parallel version"
   ]
  },
  {
   "cell_type": "markdown",
   "metadata": {},
   "source": [
    "The data is read in in multiProcTraj.py"
   ]
  },
  {
   "cell_type": "code",
   "execution_count": null,
   "metadata": {},
   "outputs": [],
   "source": [
    "# put data into correct order\n",
    "# x,xd,y,yd,\n",
    "# theta,thetad,phi,phid, \n",
    "# F, alpha, tau0\n",
    "\n",
    "nrun = 1000000\n",
    "\n",
    "tic = time.time()\n",
    "# loop through all the runs\n",
    "\n",
    "p = Pool(cpu_count()-3)\n",
    "stt = time.time()   \n",
    "bb = p.map(multiProcTraj.flyBug_firstLast_test, range(nrun) ) \n",
    "print(time.time() -stt)\n",
    "\n",
    "p.close()\n",
    "p.join()\n",
    "print(time.time() -stt)\n",
    "newDF = pd.DataFrame(bb, columns= [\"x0\", \"x_99_sim\", \"xd0\", \"xd_99_sim\", \"y0\", \"y_99_sim\", \"yd0\", \"yd_99_sim\", \"theta0\", \\\n",
    "        \"theta_99_sim\", \"thetad0\", \"thetad_99_sim\", \"phi0\", \"phi_99_sim\", \"phid0\", \"phid_99_sim\", \"F\", \"alpha\", \"tau0\"])\n",
    "print('elapsed time = ',time.time()-tic)"
   ]
  },
  {
   "cell_type": "code",
   "execution_count": null,
   "metadata": {},
   "outputs": [],
   "source": [
    "print(newDF.shape)\n",
    "\n",
    "newDF.head()"
   ]
  },
  {
   "cell_type": "code",
   "execution_count": null,
   "metadata": {},
   "outputs": [],
   "source": [
    "# align newDF with old DF\n",
    "testDF.head()"
   ]
  },
  {
   "cell_type": "code",
   "execution_count": null,
   "metadata": {},
   "outputs": [],
   "source": [
    "combDF = newDF.merge(testDF.head(nrun), left_on=[\"F\", \"alpha\", \"tau0\"], right_on=[\"F_pred\", \"alpha_pred\", \"tau_pred\"])"
   ]
  },
  {
   "cell_type": "code",
   "execution_count": null,
   "metadata": {},
   "outputs": [],
   "source": [
    "print(combDF.shape)\n",
    "combDF.head()"
   ]
  },
  {
   "cell_type": "code",
   "execution_count": null,
   "metadata": {},
   "outputs": [],
   "source": [
    "# save combined DF\n",
    "combDF.to_csv(os.path.join(dataOutput, \"SimVsNNet_Locations_Full.csv\"), index = False)"
   ]
  },
  {
   "cell_type": "code",
   "execution_count": null,
   "metadata": {},
   "outputs": [],
   "source": []
  }
 ],
 "metadata": {
  "celltoolbar": "Raw Cell Format",
  "kernelspec": {
   "display_name": "numSolve",
   "language": "python",
   "name": "numsolve"
  },
  "language_info": {
   "codemirror_mode": {
    "name": "ipython",
    "version": 3
   },
   "file_extension": ".py",
   "mimetype": "text/x-python",
   "name": "python",
   "nbconvert_exporter": "python",
   "pygments_lexer": "ipython3",
   "version": "3.6.6"
  }
 },
 "nbformat": 4,
 "nbformat_minor": 2
}
